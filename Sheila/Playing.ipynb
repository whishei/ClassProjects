{
 "cells": [
  {
   "cell_type": "code",
   "execution_count": null,
   "metadata": {},
   "outputs": [],
   "source": [
    "# Requirements:\n",
    "!pip install numpy\n",
    "!pip install copy \n",
    "!pip install ast\n",
    "!pip install math\n",
    "!pip install random "
   ]
  },
  {
   "cell_type": "code",
   "execution_count": null,
   "metadata": {},
   "outputs": [],
   "source": [
    "from MCTS import *\n",
    "from Othello import *\n",
    "from TicTacToe import *"
   ]
  },
  {
   "cell_type": "code",
   "execution_count": null,
   "metadata": {},
   "outputs": [],
   "source": [
    "#Playing Tic-Tac-Toe\n",
    "\n",
    "if __name__ == '__main__':\n",
    "    # create board instance\n",
    "    play = TicTacToe()\n",
    "    \n",
    "    # start game loop\n",
    "    play.play_game()"
   ]
  },
  {
   "cell_type": "code",
   "execution_count": null,
   "metadata": {},
   "outputs": [],
   "source": [
    "#Playing Othello \n",
    "\n",
    "if __name__ == '__main__':\n",
    "    # create board instance\n",
    "    play = Othello()\n",
    "    \n",
    "    # start game loop\n",
    "    play.play_game()"
   ]
  }
 ],
 "metadata": {
  "language_info": {
   "name": "python"
  }
 },
 "nbformat": 4,
 "nbformat_minor": 2
}
